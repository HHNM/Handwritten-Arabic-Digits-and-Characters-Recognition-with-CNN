{
  "nbformat": 4,
  "nbformat_minor": 0,
  "metadata": {
    "colab": {
      "name": "Handwritten_Arabic_Digits_Recognition_with_CNN.ipynb",
      "provenance": [],
      "collapsed_sections": []
    },
    "kernelspec": {
      "name": "python3",
      "display_name": "Python 3"
    },
    "language_info": {
      "name": "python"
    }
  },
  "cells": [
    {
      "cell_type": "markdown",
      "metadata": {
        "id": "qJVj7zUqkdjj"
      },
      "source": [
        "# **Handwritten Arabic Digits Recognition with CNN**\n",
        "---"
      ]
    },
    {
      "cell_type": "markdown",
      "metadata": {
        "id": "m_Gmg-O9-Lla"
      },
      "source": [
        "## Data preparation"
      ]
    },
    {
      "cell_type": "markdown",
      "metadata": {
        "id": "8oKZPVGZ-WTE"
      },
      "source": [
        "###Data load"
      ]
    },
    {
      "cell_type": "code",
      "metadata": {
        "colab": {
          "base_uri": "https://localhost:8080/"
        },
        "id": "6-glWUjRdEfV",
        "outputId": "6c272a41-c708-48e0-8cd9-c904813a9343"
      },
      "source": [
        "from google.colab import drive\n",
        "drive.mount('/content/drive')"
      ],
      "execution_count": null,
      "outputs": [
        {
          "output_type": "stream",
          "name": "stdout",
          "text": [
            "Mounted at /content/drive\n"
          ]
        }
      ]
    },
    {
      "cell_type": "code",
      "metadata": {
        "id": "WAAgMG78dzsm"
      },
      "source": [
        "import pandas as pd"
      ],
      "execution_count": null,
      "outputs": []
    },
    {
      "cell_type": "code",
      "metadata": {
        "id": "iWwzTSWTeGT_"
      },
      "source": [
        "x_train = pd.read_csv(\"/content/drive/My Drive/colab_files/csvdigitsTrainImages 60k x 784.csv\", header=None)\n",
        "x_test = pd.read_csv(\"/content/drive/My Drive/colab_files/csvdigitsTestImages 10k x 784.csv\", header=None)\n",
        "y_train = pd.read_csv(\"/content/drive/My Drive/colab_files/csvdigitsTrainLabel 60k x 1.csv\", header=None)\n",
        "y_test = pd.read_csv(\"/content/drive/My Drive/colab_files/csvdigitsTestLabel 10k x 1.csv\", header=None)"
      ],
      "execution_count": null,
      "outputs": []
    },
    {
      "cell_type": "code",
      "metadata": {
        "colab": {
          "base_uri": "https://localhost:8080/",
          "height": 253
        },
        "id": "TcztGfGigvCp",
        "outputId": "4ea8249d-6ae7-4b0e-f26f-4bf200269406"
      },
      "source": [
        "x_train.head(5)"
      ],
      "execution_count": null,
      "outputs": [
        {
          "output_type": "execute_result",
          "data": {
            "text/html": [
              "<div>\n",
              "<style scoped>\n",
              "    .dataframe tbody tr th:only-of-type {\n",
              "        vertical-align: middle;\n",
              "    }\n",
              "\n",
              "    .dataframe tbody tr th {\n",
              "        vertical-align: top;\n",
              "    }\n",
              "\n",
              "    .dataframe thead th {\n",
              "        text-align: right;\n",
              "    }\n",
              "</style>\n",
              "<table border=\"1\" class=\"dataframe\">\n",
              "  <thead>\n",
              "    <tr style=\"text-align: right;\">\n",
              "      <th></th>\n",
              "      <th>0</th>\n",
              "      <th>1</th>\n",
              "      <th>2</th>\n",
              "      <th>3</th>\n",
              "      <th>4</th>\n",
              "      <th>5</th>\n",
              "      <th>6</th>\n",
              "      <th>7</th>\n",
              "      <th>8</th>\n",
              "      <th>9</th>\n",
              "      <th>10</th>\n",
              "      <th>11</th>\n",
              "      <th>12</th>\n",
              "      <th>13</th>\n",
              "      <th>14</th>\n",
              "      <th>15</th>\n",
              "      <th>16</th>\n",
              "      <th>17</th>\n",
              "      <th>18</th>\n",
              "      <th>19</th>\n",
              "      <th>20</th>\n",
              "      <th>21</th>\n",
              "      <th>22</th>\n",
              "      <th>23</th>\n",
              "      <th>24</th>\n",
              "      <th>25</th>\n",
              "      <th>26</th>\n",
              "      <th>27</th>\n",
              "      <th>28</th>\n",
              "      <th>29</th>\n",
              "      <th>30</th>\n",
              "      <th>31</th>\n",
              "      <th>32</th>\n",
              "      <th>33</th>\n",
              "      <th>34</th>\n",
              "      <th>35</th>\n",
              "      <th>36</th>\n",
              "      <th>37</th>\n",
              "      <th>38</th>\n",
              "      <th>39</th>\n",
              "      <th>...</th>\n",
              "      <th>744</th>\n",
              "      <th>745</th>\n",
              "      <th>746</th>\n",
              "      <th>747</th>\n",
              "      <th>748</th>\n",
              "      <th>749</th>\n",
              "      <th>750</th>\n",
              "      <th>751</th>\n",
              "      <th>752</th>\n",
              "      <th>753</th>\n",
              "      <th>754</th>\n",
              "      <th>755</th>\n",
              "      <th>756</th>\n",
              "      <th>757</th>\n",
              "      <th>758</th>\n",
              "      <th>759</th>\n",
              "      <th>760</th>\n",
              "      <th>761</th>\n",
              "      <th>762</th>\n",
              "      <th>763</th>\n",
              "      <th>764</th>\n",
              "      <th>765</th>\n",
              "      <th>766</th>\n",
              "      <th>767</th>\n",
              "      <th>768</th>\n",
              "      <th>769</th>\n",
              "      <th>770</th>\n",
              "      <th>771</th>\n",
              "      <th>772</th>\n",
              "      <th>773</th>\n",
              "      <th>774</th>\n",
              "      <th>775</th>\n",
              "      <th>776</th>\n",
              "      <th>777</th>\n",
              "      <th>778</th>\n",
              "      <th>779</th>\n",
              "      <th>780</th>\n",
              "      <th>781</th>\n",
              "      <th>782</th>\n",
              "      <th>783</th>\n",
              "    </tr>\n",
              "  </thead>\n",
              "  <tbody>\n",
              "    <tr>\n",
              "      <th>0</th>\n",
              "      <td>0</td>\n",
              "      <td>0</td>\n",
              "      <td>0</td>\n",
              "      <td>0</td>\n",
              "      <td>0</td>\n",
              "      <td>0</td>\n",
              "      <td>0</td>\n",
              "      <td>0</td>\n",
              "      <td>0</td>\n",
              "      <td>0</td>\n",
              "      <td>0</td>\n",
              "      <td>0</td>\n",
              "      <td>0</td>\n",
              "      <td>0</td>\n",
              "      <td>0</td>\n",
              "      <td>0</td>\n",
              "      <td>0</td>\n",
              "      <td>0</td>\n",
              "      <td>0</td>\n",
              "      <td>0</td>\n",
              "      <td>0</td>\n",
              "      <td>0</td>\n",
              "      <td>0</td>\n",
              "      <td>0</td>\n",
              "      <td>0</td>\n",
              "      <td>0</td>\n",
              "      <td>0</td>\n",
              "      <td>0</td>\n",
              "      <td>0</td>\n",
              "      <td>0</td>\n",
              "      <td>0</td>\n",
              "      <td>0</td>\n",
              "      <td>0</td>\n",
              "      <td>0</td>\n",
              "      <td>0</td>\n",
              "      <td>0</td>\n",
              "      <td>0</td>\n",
              "      <td>0</td>\n",
              "      <td>0</td>\n",
              "      <td>0</td>\n",
              "      <td>...</td>\n",
              "      <td>0</td>\n",
              "      <td>0</td>\n",
              "      <td>0</td>\n",
              "      <td>0</td>\n",
              "      <td>0</td>\n",
              "      <td>0</td>\n",
              "      <td>0</td>\n",
              "      <td>0</td>\n",
              "      <td>0</td>\n",
              "      <td>0</td>\n",
              "      <td>0</td>\n",
              "      <td>0</td>\n",
              "      <td>0</td>\n",
              "      <td>0</td>\n",
              "      <td>0</td>\n",
              "      <td>0</td>\n",
              "      <td>0</td>\n",
              "      <td>0</td>\n",
              "      <td>0</td>\n",
              "      <td>0</td>\n",
              "      <td>0</td>\n",
              "      <td>0</td>\n",
              "      <td>0</td>\n",
              "      <td>0</td>\n",
              "      <td>0</td>\n",
              "      <td>0</td>\n",
              "      <td>0</td>\n",
              "      <td>0</td>\n",
              "      <td>0</td>\n",
              "      <td>0</td>\n",
              "      <td>0</td>\n",
              "      <td>0</td>\n",
              "      <td>0</td>\n",
              "      <td>0</td>\n",
              "      <td>0</td>\n",
              "      <td>0</td>\n",
              "      <td>0</td>\n",
              "      <td>0</td>\n",
              "      <td>0</td>\n",
              "      <td>0</td>\n",
              "    </tr>\n",
              "    <tr>\n",
              "      <th>1</th>\n",
              "      <td>0</td>\n",
              "      <td>0</td>\n",
              "      <td>0</td>\n",
              "      <td>0</td>\n",
              "      <td>0</td>\n",
              "      <td>0</td>\n",
              "      <td>0</td>\n",
              "      <td>0</td>\n",
              "      <td>0</td>\n",
              "      <td>0</td>\n",
              "      <td>0</td>\n",
              "      <td>0</td>\n",
              "      <td>0</td>\n",
              "      <td>0</td>\n",
              "      <td>0</td>\n",
              "      <td>0</td>\n",
              "      <td>0</td>\n",
              "      <td>0</td>\n",
              "      <td>0</td>\n",
              "      <td>0</td>\n",
              "      <td>0</td>\n",
              "      <td>0</td>\n",
              "      <td>0</td>\n",
              "      <td>0</td>\n",
              "      <td>0</td>\n",
              "      <td>0</td>\n",
              "      <td>0</td>\n",
              "      <td>0</td>\n",
              "      <td>0</td>\n",
              "      <td>0</td>\n",
              "      <td>0</td>\n",
              "      <td>0</td>\n",
              "      <td>0</td>\n",
              "      <td>0</td>\n",
              "      <td>0</td>\n",
              "      <td>0</td>\n",
              "      <td>0</td>\n",
              "      <td>0</td>\n",
              "      <td>0</td>\n",
              "      <td>0</td>\n",
              "      <td>...</td>\n",
              "      <td>0</td>\n",
              "      <td>0</td>\n",
              "      <td>0</td>\n",
              "      <td>0</td>\n",
              "      <td>0</td>\n",
              "      <td>0</td>\n",
              "      <td>0</td>\n",
              "      <td>0</td>\n",
              "      <td>0</td>\n",
              "      <td>0</td>\n",
              "      <td>0</td>\n",
              "      <td>0</td>\n",
              "      <td>0</td>\n",
              "      <td>0</td>\n",
              "      <td>0</td>\n",
              "      <td>0</td>\n",
              "      <td>0</td>\n",
              "      <td>0</td>\n",
              "      <td>0</td>\n",
              "      <td>0</td>\n",
              "      <td>0</td>\n",
              "      <td>0</td>\n",
              "      <td>0</td>\n",
              "      <td>0</td>\n",
              "      <td>0</td>\n",
              "      <td>0</td>\n",
              "      <td>0</td>\n",
              "      <td>0</td>\n",
              "      <td>0</td>\n",
              "      <td>0</td>\n",
              "      <td>0</td>\n",
              "      <td>0</td>\n",
              "      <td>0</td>\n",
              "      <td>0</td>\n",
              "      <td>0</td>\n",
              "      <td>0</td>\n",
              "      <td>0</td>\n",
              "      <td>0</td>\n",
              "      <td>0</td>\n",
              "      <td>0</td>\n",
              "    </tr>\n",
              "    <tr>\n",
              "      <th>2</th>\n",
              "      <td>0</td>\n",
              "      <td>0</td>\n",
              "      <td>0</td>\n",
              "      <td>0</td>\n",
              "      <td>0</td>\n",
              "      <td>0</td>\n",
              "      <td>0</td>\n",
              "      <td>0</td>\n",
              "      <td>0</td>\n",
              "      <td>0</td>\n",
              "      <td>0</td>\n",
              "      <td>0</td>\n",
              "      <td>0</td>\n",
              "      <td>0</td>\n",
              "      <td>0</td>\n",
              "      <td>0</td>\n",
              "      <td>0</td>\n",
              "      <td>0</td>\n",
              "      <td>0</td>\n",
              "      <td>0</td>\n",
              "      <td>0</td>\n",
              "      <td>0</td>\n",
              "      <td>0</td>\n",
              "      <td>0</td>\n",
              "      <td>0</td>\n",
              "      <td>0</td>\n",
              "      <td>0</td>\n",
              "      <td>0</td>\n",
              "      <td>0</td>\n",
              "      <td>0</td>\n",
              "      <td>0</td>\n",
              "      <td>0</td>\n",
              "      <td>0</td>\n",
              "      <td>0</td>\n",
              "      <td>0</td>\n",
              "      <td>0</td>\n",
              "      <td>0</td>\n",
              "      <td>0</td>\n",
              "      <td>0</td>\n",
              "      <td>0</td>\n",
              "      <td>...</td>\n",
              "      <td>0</td>\n",
              "      <td>0</td>\n",
              "      <td>0</td>\n",
              "      <td>0</td>\n",
              "      <td>0</td>\n",
              "      <td>0</td>\n",
              "      <td>0</td>\n",
              "      <td>0</td>\n",
              "      <td>0</td>\n",
              "      <td>0</td>\n",
              "      <td>0</td>\n",
              "      <td>0</td>\n",
              "      <td>0</td>\n",
              "      <td>0</td>\n",
              "      <td>0</td>\n",
              "      <td>0</td>\n",
              "      <td>0</td>\n",
              "      <td>0</td>\n",
              "      <td>0</td>\n",
              "      <td>0</td>\n",
              "      <td>0</td>\n",
              "      <td>0</td>\n",
              "      <td>0</td>\n",
              "      <td>0</td>\n",
              "      <td>0</td>\n",
              "      <td>0</td>\n",
              "      <td>0</td>\n",
              "      <td>0</td>\n",
              "      <td>0</td>\n",
              "      <td>0</td>\n",
              "      <td>0</td>\n",
              "      <td>0</td>\n",
              "      <td>0</td>\n",
              "      <td>0</td>\n",
              "      <td>0</td>\n",
              "      <td>0</td>\n",
              "      <td>0</td>\n",
              "      <td>0</td>\n",
              "      <td>0</td>\n",
              "      <td>0</td>\n",
              "    </tr>\n",
              "    <tr>\n",
              "      <th>3</th>\n",
              "      <td>0</td>\n",
              "      <td>0</td>\n",
              "      <td>0</td>\n",
              "      <td>0</td>\n",
              "      <td>0</td>\n",
              "      <td>0</td>\n",
              "      <td>0</td>\n",
              "      <td>0</td>\n",
              "      <td>0</td>\n",
              "      <td>0</td>\n",
              "      <td>0</td>\n",
              "      <td>0</td>\n",
              "      <td>0</td>\n",
              "      <td>0</td>\n",
              "      <td>0</td>\n",
              "      <td>0</td>\n",
              "      <td>0</td>\n",
              "      <td>0</td>\n",
              "      <td>0</td>\n",
              "      <td>0</td>\n",
              "      <td>0</td>\n",
              "      <td>0</td>\n",
              "      <td>0</td>\n",
              "      <td>0</td>\n",
              "      <td>0</td>\n",
              "      <td>0</td>\n",
              "      <td>0</td>\n",
              "      <td>0</td>\n",
              "      <td>0</td>\n",
              "      <td>0</td>\n",
              "      <td>0</td>\n",
              "      <td>0</td>\n",
              "      <td>0</td>\n",
              "      <td>0</td>\n",
              "      <td>0</td>\n",
              "      <td>0</td>\n",
              "      <td>0</td>\n",
              "      <td>0</td>\n",
              "      <td>0</td>\n",
              "      <td>0</td>\n",
              "      <td>...</td>\n",
              "      <td>0</td>\n",
              "      <td>0</td>\n",
              "      <td>0</td>\n",
              "      <td>0</td>\n",
              "      <td>0</td>\n",
              "      <td>0</td>\n",
              "      <td>0</td>\n",
              "      <td>0</td>\n",
              "      <td>0</td>\n",
              "      <td>0</td>\n",
              "      <td>0</td>\n",
              "      <td>0</td>\n",
              "      <td>0</td>\n",
              "      <td>0</td>\n",
              "      <td>0</td>\n",
              "      <td>0</td>\n",
              "      <td>0</td>\n",
              "      <td>0</td>\n",
              "      <td>0</td>\n",
              "      <td>0</td>\n",
              "      <td>0</td>\n",
              "      <td>0</td>\n",
              "      <td>0</td>\n",
              "      <td>0</td>\n",
              "      <td>0</td>\n",
              "      <td>0</td>\n",
              "      <td>0</td>\n",
              "      <td>0</td>\n",
              "      <td>0</td>\n",
              "      <td>0</td>\n",
              "      <td>0</td>\n",
              "      <td>0</td>\n",
              "      <td>0</td>\n",
              "      <td>0</td>\n",
              "      <td>0</td>\n",
              "      <td>0</td>\n",
              "      <td>0</td>\n",
              "      <td>0</td>\n",
              "      <td>0</td>\n",
              "      <td>0</td>\n",
              "    </tr>\n",
              "    <tr>\n",
              "      <th>4</th>\n",
              "      <td>0</td>\n",
              "      <td>0</td>\n",
              "      <td>0</td>\n",
              "      <td>0</td>\n",
              "      <td>0</td>\n",
              "      <td>0</td>\n",
              "      <td>0</td>\n",
              "      <td>0</td>\n",
              "      <td>0</td>\n",
              "      <td>0</td>\n",
              "      <td>0</td>\n",
              "      <td>0</td>\n",
              "      <td>0</td>\n",
              "      <td>0</td>\n",
              "      <td>0</td>\n",
              "      <td>0</td>\n",
              "      <td>0</td>\n",
              "      <td>0</td>\n",
              "      <td>0</td>\n",
              "      <td>0</td>\n",
              "      <td>0</td>\n",
              "      <td>0</td>\n",
              "      <td>0</td>\n",
              "      <td>0</td>\n",
              "      <td>0</td>\n",
              "      <td>0</td>\n",
              "      <td>0</td>\n",
              "      <td>0</td>\n",
              "      <td>0</td>\n",
              "      <td>0</td>\n",
              "      <td>0</td>\n",
              "      <td>0</td>\n",
              "      <td>0</td>\n",
              "      <td>0</td>\n",
              "      <td>0</td>\n",
              "      <td>0</td>\n",
              "      <td>0</td>\n",
              "      <td>0</td>\n",
              "      <td>0</td>\n",
              "      <td>0</td>\n",
              "      <td>...</td>\n",
              "      <td>0</td>\n",
              "      <td>0</td>\n",
              "      <td>0</td>\n",
              "      <td>0</td>\n",
              "      <td>0</td>\n",
              "      <td>0</td>\n",
              "      <td>0</td>\n",
              "      <td>0</td>\n",
              "      <td>0</td>\n",
              "      <td>0</td>\n",
              "      <td>0</td>\n",
              "      <td>0</td>\n",
              "      <td>0</td>\n",
              "      <td>0</td>\n",
              "      <td>0</td>\n",
              "      <td>0</td>\n",
              "      <td>0</td>\n",
              "      <td>0</td>\n",
              "      <td>0</td>\n",
              "      <td>0</td>\n",
              "      <td>0</td>\n",
              "      <td>0</td>\n",
              "      <td>0</td>\n",
              "      <td>0</td>\n",
              "      <td>0</td>\n",
              "      <td>0</td>\n",
              "      <td>0</td>\n",
              "      <td>0</td>\n",
              "      <td>0</td>\n",
              "      <td>0</td>\n",
              "      <td>0</td>\n",
              "      <td>0</td>\n",
              "      <td>0</td>\n",
              "      <td>0</td>\n",
              "      <td>0</td>\n",
              "      <td>0</td>\n",
              "      <td>0</td>\n",
              "      <td>0</td>\n",
              "      <td>0</td>\n",
              "      <td>0</td>\n",
              "    </tr>\n",
              "  </tbody>\n",
              "</table>\n",
              "<p>5 rows × 784 columns</p>\n",
              "</div>"
            ],
            "text/plain": [
              "   0    1    2    3    4    5    6    ...  777  778  779  780  781  782  783\n",
              "0    0    0    0    0    0    0    0  ...    0    0    0    0    0    0    0\n",
              "1    0    0    0    0    0    0    0  ...    0    0    0    0    0    0    0\n",
              "2    0    0    0    0    0    0    0  ...    0    0    0    0    0    0    0\n",
              "3    0    0    0    0    0    0    0  ...    0    0    0    0    0    0    0\n",
              "4    0    0    0    0    0    0    0  ...    0    0    0    0    0    0    0\n",
              "\n",
              "[5 rows x 784 columns]"
            ]
          },
          "metadata": {},
          "execution_count": 4
        }
      ]
    },
    {
      "cell_type": "markdown",
      "metadata": {
        "id": "WkVCb_Yp-c_1"
      },
      "source": [
        "###Data cleaning"
      ]
    },
    {
      "cell_type": "code",
      "metadata": {
        "colab": {
          "base_uri": "https://localhost:8080/"
        },
        "id": "KapldOMbj6wj",
        "outputId": "5a612bb4-31dc-46af-a5b3-a9398deda920"
      },
      "source": [
        "x_train.isnull().sum()"
      ],
      "execution_count": null,
      "outputs": [
        {
          "output_type": "execute_result",
          "data": {
            "text/plain": [
              "0      0\n",
              "1      0\n",
              "2      0\n",
              "3      0\n",
              "4      0\n",
              "      ..\n",
              "779    0\n",
              "780    0\n",
              "781    0\n",
              "782    0\n",
              "783    0\n",
              "Length: 784, dtype: int64"
            ]
          },
          "metadata": {},
          "execution_count": 5
        }
      ]
    },
    {
      "cell_type": "code",
      "metadata": {
        "colab": {
          "base_uri": "https://localhost:8080/"
        },
        "id": "ZH9WDjfJkEUf",
        "outputId": "89b97bb0-c187-494a-8a11-ac11dbc60b48"
      },
      "source": [
        "x_train.isnull().sum().sum()"
      ],
      "execution_count": null,
      "outputs": [
        {
          "output_type": "execute_result",
          "data": {
            "text/plain": [
              "0"
            ]
          },
          "metadata": {},
          "execution_count": 6
        }
      ]
    },
    {
      "cell_type": "code",
      "metadata": {
        "id": "hsltAYdhnJH7"
      },
      "source": [
        "x_train = x_train.to_numpy()\n",
        "x_test = x_test.to_numpy()\n",
        "y_train = y_train.to_numpy()\n",
        "y_test = y_test.to_numpy()"
      ],
      "execution_count": null,
      "outputs": []
    },
    {
      "cell_type": "code",
      "metadata": {
        "id": "4IflSYWlnW9e"
      },
      "source": [
        "x_train = x_train/255\n",
        "x_test = x_test/255"
      ],
      "execution_count": null,
      "outputs": []
    },
    {
      "cell_type": "code",
      "metadata": {
        "id": "yBBLrSiSni66"
      },
      "source": [
        "x_train = x_train.reshape(-1, 28, 28, 1)"
      ],
      "execution_count": null,
      "outputs": []
    },
    {
      "cell_type": "code",
      "metadata": {
        "id": "Hz513jiqnkx0"
      },
      "source": [
        "x_test = x_test.reshape(-1, 28, 28, 1)"
      ],
      "execution_count": null,
      "outputs": []
    },
    {
      "cell_type": "markdown",
      "metadata": {
        "id": "tkveC0Fe-ygC"
      },
      "source": [
        "## CNN model"
      ]
    },
    {
      "cell_type": "code",
      "metadata": {
        "id": "FCpADVaynmXb"
      },
      "source": [
        "from tensorflow import keras\n",
        "from keras.layers import Dense, Dropout, Input, Conv2D, Flatten, MaxPooling2D, BatchNormalization\n",
        "from keras.models import Sequential\n",
        "from tensorflow.keras.utils import to_categorical, plot_model"
      ],
      "execution_count": null,
      "outputs": []
    },
    {
      "cell_type": "code",
      "metadata": {
        "id": "TZFefnXanoUh"
      },
      "source": [
        "y_train = to_categorical(y_train)\n",
        "y_test = to_categorical(y_test)"
      ],
      "execution_count": null,
      "outputs": []
    },
    {
      "cell_type": "code",
      "metadata": {
        "id": "YafGBVFOoDLn"
      },
      "source": [
        "model = Sequential()\n",
        "model.add(Conv2D(32, (3,3), padding='same', activation='relu', input_shape=(28, 28, 1)))\n",
        "model.add(MaxPooling2D((2,2)))\n",
        "model.add(Dropout(0.5))\n",
        "model.add(Conv2D(64, (3,3), padding='same', activation='relu'))\n",
        "model.add(MaxPooling2D((2,2)))\n",
        "model.add(Dropout(0.5))\n",
        "model.add(Flatten())\n",
        "model.add(Dense(128, activation='relu'))\n",
        "model.add(Dense(10, activation='softmax'))"
      ],
      "execution_count": null,
      "outputs": []
    },
    {
      "cell_type": "code",
      "metadata": {
        "id": "iCEbPWJboKUk"
      },
      "source": [
        "model.compile(loss='categorical_crossentropy',optimizer='adam', metrics=['accuracy'])"
      ],
      "execution_count": null,
      "outputs": []
    },
    {
      "cell_type": "code",
      "metadata": {
        "colab": {
          "base_uri": "https://localhost:8080/"
        },
        "id": "jY_IAaWsoOWv",
        "outputId": "94f739e2-bc5e-43e3-8ec4-a93b7e320bc0"
      },
      "source": [
        "model.fit(x_train, y_train, epochs=100)"
      ],
      "execution_count": null,
      "outputs": [
        {
          "output_type": "stream",
          "name": "stdout",
          "text": [
            "Epoch 1/100\n",
            "1875/1875 [==============================] - 80s 42ms/step - loss: 0.1115 - accuracy: 0.9666\n",
            "Epoch 2/100\n",
            "1875/1875 [==============================] - 79s 42ms/step - loss: 0.0409 - accuracy: 0.9874\n",
            "Epoch 3/100\n",
            "1875/1875 [==============================] - 79s 42ms/step - loss: 0.0330 - accuracy: 0.9895\n",
            "Epoch 4/100\n",
            "1875/1875 [==============================] - 79s 42ms/step - loss: 0.0285 - accuracy: 0.9909\n",
            "Epoch 5/100\n",
            "1875/1875 [==============================] - 79s 42ms/step - loss: 0.0260 - accuracy: 0.9923\n",
            "Epoch 6/100\n",
            "1875/1875 [==============================] - 79s 42ms/step - loss: 0.0233 - accuracy: 0.9930\n",
            "Epoch 7/100\n",
            "1875/1875 [==============================] - 79s 42ms/step - loss: 0.0211 - accuracy: 0.9935\n",
            "Epoch 8/100\n",
            "1875/1875 [==============================] - 79s 42ms/step - loss: 0.0195 - accuracy: 0.9937\n",
            "Epoch 9/100\n",
            "1875/1875 [==============================] - 78s 42ms/step - loss: 0.0178 - accuracy: 0.9943\n",
            "Epoch 10/100\n",
            "1875/1875 [==============================] - 79s 42ms/step - loss: 0.0180 - accuracy: 0.9940\n",
            "Epoch 11/100\n",
            "1875/1875 [==============================] - 79s 42ms/step - loss: 0.0162 - accuracy: 0.9948\n",
            "Epoch 12/100\n",
            "1875/1875 [==============================] - 79s 42ms/step - loss: 0.0164 - accuracy: 0.9947\n",
            "Epoch 13/100\n",
            "1875/1875 [==============================] - 79s 42ms/step - loss: 0.0158 - accuracy: 0.9948\n",
            "Epoch 14/100\n",
            "1875/1875 [==============================] - 79s 42ms/step - loss: 0.0160 - accuracy: 0.9948\n",
            "Epoch 15/100\n",
            "1875/1875 [==============================] - 79s 42ms/step - loss: 0.0145 - accuracy: 0.9955\n",
            "Epoch 16/100\n",
            "1875/1875 [==============================] - 79s 42ms/step - loss: 0.0132 - accuracy: 0.9958\n",
            "Epoch 17/100\n",
            "1875/1875 [==============================] - 78s 42ms/step - loss: 0.0148 - accuracy: 0.9956\n",
            "Epoch 18/100\n",
            "1875/1875 [==============================] - 78s 42ms/step - loss: 0.0123 - accuracy: 0.9959\n",
            "Epoch 19/100\n",
            "1875/1875 [==============================] - 78s 42ms/step - loss: 0.0139 - accuracy: 0.9954\n",
            "Epoch 20/100\n",
            "1875/1875 [==============================] - 79s 42ms/step - loss: 0.0130 - accuracy: 0.9961\n",
            "Epoch 21/100\n",
            "1875/1875 [==============================] - 79s 42ms/step - loss: 0.0132 - accuracy: 0.9957\n",
            "Epoch 22/100\n",
            "1875/1875 [==============================] - 79s 42ms/step - loss: 0.0131 - accuracy: 0.9960\n",
            "Epoch 23/100\n",
            "1875/1875 [==============================] - 79s 42ms/step - loss: 0.0118 - accuracy: 0.9964\n",
            "Epoch 24/100\n",
            "1875/1875 [==============================] - 79s 42ms/step - loss: 0.0120 - accuracy: 0.9965\n",
            "Epoch 25/100\n",
            "1875/1875 [==============================] - 79s 42ms/step - loss: 0.0119 - accuracy: 0.9965\n",
            "Epoch 26/100\n",
            "1875/1875 [==============================] - 79s 42ms/step - loss: 0.0120 - accuracy: 0.9963\n",
            "Epoch 27/100\n",
            "1875/1875 [==============================] - 79s 42ms/step - loss: 0.0110 - accuracy: 0.9966\n",
            "Epoch 28/100\n",
            "1875/1875 [==============================] - 78s 42ms/step - loss: 0.0113 - accuracy: 0.9966\n",
            "Epoch 29/100\n",
            "1875/1875 [==============================] - 79s 42ms/step - loss: 0.0100 - accuracy: 0.9967\n",
            "Epoch 30/100\n",
            "1875/1875 [==============================] - 78s 42ms/step - loss: 0.0118 - accuracy: 0.9967\n",
            "Epoch 31/100\n",
            "1875/1875 [==============================] - 79s 42ms/step - loss: 0.0118 - accuracy: 0.9963\n",
            "Epoch 32/100\n",
            "1875/1875 [==============================] - 78s 42ms/step - loss: 0.0103 - accuracy: 0.9969\n",
            "Epoch 33/100\n",
            "1875/1875 [==============================] - 79s 42ms/step - loss: 0.0131 - accuracy: 0.9962\n",
            "Epoch 34/100\n",
            "1875/1875 [==============================] - 79s 42ms/step - loss: 0.0095 - accuracy: 0.9970\n",
            "Epoch 35/100\n",
            "1875/1875 [==============================] - 79s 42ms/step - loss: 0.0100 - accuracy: 0.9969\n",
            "Epoch 36/100\n",
            "1875/1875 [==============================] - 78s 42ms/step - loss: 0.0117 - accuracy: 0.9964\n",
            "Epoch 37/100\n",
            "1875/1875 [==============================] - 79s 42ms/step - loss: 0.0098 - accuracy: 0.9970\n",
            "Epoch 38/100\n",
            "1875/1875 [==============================] - 79s 42ms/step - loss: 0.0110 - accuracy: 0.9967\n",
            "Epoch 39/100\n",
            "1875/1875 [==============================] - 79s 42ms/step - loss: 0.0120 - accuracy: 0.9967\n",
            "Epoch 40/100\n",
            "1875/1875 [==============================] - 79s 42ms/step - loss: 0.0113 - accuracy: 0.9964\n",
            "Epoch 41/100\n",
            "1875/1875 [==============================] - 79s 42ms/step - loss: 0.0122 - accuracy: 0.9963\n",
            "Epoch 42/100\n",
            "1875/1875 [==============================] - 79s 42ms/step - loss: 0.0090 - accuracy: 0.9972\n",
            "Epoch 43/100\n",
            "1875/1875 [==============================] - 79s 42ms/step - loss: 0.0087 - accuracy: 0.9975\n",
            "Epoch 44/100\n",
            "1875/1875 [==============================] - 79s 42ms/step - loss: 0.0112 - accuracy: 0.9968\n",
            "Epoch 45/100\n",
            "1875/1875 [==============================] - 79s 42ms/step - loss: 0.0105 - accuracy: 0.9969\n",
            "Epoch 46/100\n",
            "1875/1875 [==============================] - 79s 42ms/step - loss: 0.0102 - accuracy: 0.9971\n",
            "Epoch 47/100\n",
            "1875/1875 [==============================] - 79s 42ms/step - loss: 0.0118 - accuracy: 0.9968\n",
            "Epoch 48/100\n",
            "1875/1875 [==============================] - 79s 42ms/step - loss: 0.0095 - accuracy: 0.9973\n",
            "Epoch 49/100\n",
            "1875/1875 [==============================] - 79s 42ms/step - loss: 0.0108 - accuracy: 0.9969\n",
            "Epoch 50/100\n",
            "1875/1875 [==============================] - 79s 42ms/step - loss: 0.0101 - accuracy: 0.9969\n",
            "Epoch 51/100\n",
            "1875/1875 [==============================] - 79s 42ms/step - loss: 0.0115 - accuracy: 0.9966\n",
            "Epoch 52/100\n",
            "1875/1875 [==============================] - 79s 42ms/step - loss: 0.0106 - accuracy: 0.9969\n",
            "Epoch 53/100\n",
            "1875/1875 [==============================] - 79s 42ms/step - loss: 0.0094 - accuracy: 0.9973\n",
            "Epoch 54/100\n",
            "1875/1875 [==============================] - 79s 42ms/step - loss: 0.0091 - accuracy: 0.9977\n",
            "Epoch 55/100\n",
            "1875/1875 [==============================] - 79s 42ms/step - loss: 0.0113 - accuracy: 0.9969\n",
            "Epoch 56/100\n",
            "1875/1875 [==============================] - 79s 42ms/step - loss: 0.0085 - accuracy: 0.9975\n",
            "Epoch 57/100\n",
            "1875/1875 [==============================] - 79s 42ms/step - loss: 0.0089 - accuracy: 0.9973\n",
            "Epoch 58/100\n",
            "1875/1875 [==============================] - 79s 42ms/step - loss: 0.0106 - accuracy: 0.9970\n",
            "Epoch 59/100\n",
            "1875/1875 [==============================] - 79s 42ms/step - loss: 0.0099 - accuracy: 0.9971\n",
            "Epoch 60/100\n",
            "1875/1875 [==============================] - 79s 42ms/step - loss: 0.0099 - accuracy: 0.9972\n",
            "Epoch 61/100\n",
            "1875/1875 [==============================] - 79s 42ms/step - loss: 0.0108 - accuracy: 0.9971\n",
            "Epoch 62/100\n",
            "1875/1875 [==============================] - 80s 42ms/step - loss: 0.0097 - accuracy: 0.9972\n",
            "Epoch 63/100\n",
            "1875/1875 [==============================] - 80s 42ms/step - loss: 0.0093 - accuracy: 0.9974\n",
            "Epoch 64/100\n",
            "1875/1875 [==============================] - 79s 42ms/step - loss: 0.0093 - accuracy: 0.9972\n",
            "Epoch 65/100\n",
            "1875/1875 [==============================] - 80s 42ms/step - loss: 0.0110 - accuracy: 0.9971\n",
            "Epoch 66/100\n",
            "1875/1875 [==============================] - 79s 42ms/step - loss: 0.0097 - accuracy: 0.9973\n",
            "Epoch 67/100\n",
            "1875/1875 [==============================] - 79s 42ms/step - loss: 0.0105 - accuracy: 0.9972\n",
            "Epoch 68/100\n",
            "1875/1875 [==============================] - 79s 42ms/step - loss: 0.0099 - accuracy: 0.9970\n",
            "Epoch 69/100\n",
            "1875/1875 [==============================] - 79s 42ms/step - loss: 0.0105 - accuracy: 0.9970\n",
            "Epoch 70/100\n",
            "1875/1875 [==============================] - 79s 42ms/step - loss: 0.0110 - accuracy: 0.9970\n",
            "Epoch 71/100\n",
            "1875/1875 [==============================] - 79s 42ms/step - loss: 0.0088 - accuracy: 0.9973\n",
            "Epoch 72/100\n",
            "1875/1875 [==============================] - 79s 42ms/step - loss: 0.0087 - accuracy: 0.9976\n",
            "Epoch 73/100\n",
            "1875/1875 [==============================] - 79s 42ms/step - loss: 0.0097 - accuracy: 0.9975\n",
            "Epoch 74/100\n",
            "1875/1875 [==============================] - 79s 42ms/step - loss: 0.0091 - accuracy: 0.9976\n",
            "Epoch 75/100\n",
            "1875/1875 [==============================] - 79s 42ms/step - loss: 0.0099 - accuracy: 0.9975\n",
            "Epoch 76/100\n",
            "1875/1875 [==============================] - 79s 42ms/step - loss: 0.0082 - accuracy: 0.9978\n",
            "Epoch 77/100\n",
            "1875/1875 [==============================] - 79s 42ms/step - loss: 0.0118 - accuracy: 0.9970\n",
            "Epoch 78/100\n",
            "1875/1875 [==============================] - 79s 42ms/step - loss: 0.0074 - accuracy: 0.9980\n",
            "Epoch 79/100\n",
            "1875/1875 [==============================] - 79s 42ms/step - loss: 0.0099 - accuracy: 0.9973\n",
            "Epoch 80/100\n",
            "1875/1875 [==============================] - 80s 42ms/step - loss: 0.0093 - accuracy: 0.9974\n",
            "Epoch 81/100\n",
            "1875/1875 [==============================] - 79s 42ms/step - loss: 0.0107 - accuracy: 0.9972\n",
            "Epoch 82/100\n",
            "1875/1875 [==============================] - 79s 42ms/step - loss: 0.0104 - accuracy: 0.9975\n",
            "Epoch 83/100\n",
            "1875/1875 [==============================] - 79s 42ms/step - loss: 0.0073 - accuracy: 0.9977\n",
            "Epoch 84/100\n",
            "1875/1875 [==============================] - 79s 42ms/step - loss: 0.0101 - accuracy: 0.9976\n",
            "Epoch 85/100\n",
            "1875/1875 [==============================] - 79s 42ms/step - loss: 0.0104 - accuracy: 0.9973\n",
            "Epoch 86/100\n",
            "1875/1875 [==============================] - 79s 42ms/step - loss: 0.0098 - accuracy: 0.9974\n",
            "Epoch 87/100\n",
            "1875/1875 [==============================] - 79s 42ms/step - loss: 0.0088 - accuracy: 0.9976\n",
            "Epoch 88/100\n",
            "1875/1875 [==============================] - 79s 42ms/step - loss: 0.0077 - accuracy: 0.9979\n",
            "Epoch 89/100\n",
            "1875/1875 [==============================] - 79s 42ms/step - loss: 0.0121 - accuracy: 0.9970\n",
            "Epoch 90/100\n",
            "1875/1875 [==============================] - 79s 42ms/step - loss: 0.0101 - accuracy: 0.9974\n",
            "Epoch 91/100\n",
            "1875/1875 [==============================] - 79s 42ms/step - loss: 0.0086 - accuracy: 0.9977\n",
            "Epoch 92/100\n",
            "1875/1875 [==============================] - 80s 42ms/step - loss: 0.0105 - accuracy: 0.9973\n",
            "Epoch 93/100\n",
            "1875/1875 [==============================] - 79s 42ms/step - loss: 0.0087 - accuracy: 0.9978\n",
            "Epoch 94/100\n",
            "1875/1875 [==============================] - 79s 42ms/step - loss: 0.0087 - accuracy: 0.9980\n",
            "Epoch 95/100\n",
            "1875/1875 [==============================] - 79s 42ms/step - loss: 0.0123 - accuracy: 0.9970\n",
            "Epoch 96/100\n",
            "1875/1875 [==============================] - 79s 42ms/step - loss: 0.0077 - accuracy: 0.9979\n",
            "Epoch 97/100\n",
            "1875/1875 [==============================] - 79s 42ms/step - loss: 0.0116 - accuracy: 0.9971\n",
            "Epoch 98/100\n",
            "1875/1875 [==============================] - 79s 42ms/step - loss: 0.0104 - accuracy: 0.9975\n",
            "Epoch 99/100\n",
            "1875/1875 [==============================] - 79s 42ms/step - loss: 0.0091 - accuracy: 0.9975\n",
            "Epoch 100/100\n",
            "1875/1875 [==============================] - 79s 42ms/step - loss: 0.0097 - accuracy: 0.9975\n"
          ]
        },
        {
          "output_type": "execute_result",
          "data": {
            "text/plain": [
              "<keras.callbacks.History at 0x7f7bd3dc6f50>"
            ]
          },
          "metadata": {},
          "execution_count": 15
        }
      ]
    },
    {
      "cell_type": "code",
      "metadata": {
        "colab": {
          "base_uri": "https://localhost:8080/"
        },
        "id": "M--C16B7oR74",
        "outputId": "0192866e-9082-4462-8527-f4676f25293a"
      },
      "source": [
        "model.evaluate(x_train, y_train)"
      ],
      "execution_count": null,
      "outputs": [
        {
          "output_type": "stream",
          "name": "stdout",
          "text": [
            "1875/1875 [==============================] - 22s 12ms/step - loss: 7.7535e-04 - accuracy: 0.9999\n"
          ]
        },
        {
          "output_type": "execute_result",
          "data": {
            "text/plain": [
              "[0.0007753503741696477, 0.9998666644096375]"
            ]
          },
          "metadata": {},
          "execution_count": 16
        }
      ]
    },
    {
      "cell_type": "markdown",
      "metadata": {
        "id": "O1a8Hw2G-_rk"
      },
      "source": [
        "##Data augmentation"
      ]
    },
    {
      "cell_type": "code",
      "metadata": {
        "id": "2hxGTQ6roVws"
      },
      "source": [
        "from keras.preprocessing.image import ImageDataGenerator"
      ],
      "execution_count": null,
      "outputs": []
    },
    {
      "cell_type": "code",
      "metadata": {
        "id": "OQskqiq8oaWH"
      },
      "source": [
        "epochs = 100\n",
        "batch_size = 32 #64, 128, 256, 512\n",
        "\n",
        "datagen = ImageDataGenerator(\n",
        "    featurewise_center=False,\n",
        "    samplewise_center=False, \n",
        "    featurewise_std_normalization=False,\n",
        "    samplewise_std_normalization=False,\n",
        "    zca_whitening=False,\n",
        "    rotation_range=10,\n",
        "    zoom_range=0.1,\n",
        "    width_shift_range=0.1,\n",
        "    height_shift_range=0.1,\n",
        "    horizontal_flip=False,\n",
        "    vertical_flip=False\n",
        ")"
      ],
      "execution_count": null,
      "outputs": []
    },
    {
      "cell_type": "code",
      "metadata": {
        "id": "aClZSVwqocOM"
      },
      "source": [
        "train_gen = datagen.flow(x_train, y_train,batch_size=batch_size)\n",
        "test_gen = datagen.flow(x_test, y_test, batch_size=batch_size)"
      ],
      "execution_count": null,
      "outputs": []
    },
    {
      "cell_type": "code",
      "metadata": {
        "id": "yB72SRjeod4Q"
      },
      "source": [
        "history = model.fit(train_gen, epochs=epochs, verbose=0,\n",
        "                   steps_per_epoch=x_train.shape[0]//batch_size,\n",
        "                   validation_data=test_gen,\n",
        "                   validation_steps=x_test.shape[0]//batch_size)"
      ],
      "execution_count": null,
      "outputs": []
    },
    {
      "cell_type": "markdown",
      "metadata": {
        "id": "TqQuui3DblPt"
      },
      "source": [
        "## Training and validation curves\n"
      ]
    },
    {
      "cell_type": "code",
      "metadata": {
        "id": "dsjgwkBfygod"
      },
      "source": [
        "import numpy as np\n",
        "import matplotlib.pyplot as plt\n",
        "%matplotlib inline"
      ],
      "execution_count": null,
      "outputs": []
    },
    {
      "cell_type": "code",
      "metadata": {
        "colab": {
          "base_uri": "https://localhost:8080/",
          "height": 592
        },
        "id": "ay_Pn1Ixor-A",
        "outputId": "715dd9b2-69d0-4ea7-ded1-f05fdebd7cd9"
      },
      "source": [
        "\n",
        "plt.figure(figsize=(10,10))\n",
        "plt.plot(history.history[\"accuracy\"], label='Training accuracy')\n",
        "plt.plot(history.history[\"val_accuracy\"], label='Validation accuracy')\n",
        "plt.legend([\"accuracy\", \"val_accuracy\"])\n",
        "plt.show()"
      ],
      "execution_count": null,
      "outputs": [
        {
          "output_type": "display_data",
          "data": {
            "image/png": "[encoded data removed]",
            "text/plain": [
              "<Figure size 720x720 with 1 Axes>"
            ]
          },
          "metadata": {
            "needs_background": "light"
          }
        }
      ]
    },
    {
      "cell_type": "code",
      "metadata": {
        "colab": {
          "base_uri": "https://localhost:8080/",
          "height": 592
        },
        "id": "YSeKLV99ouvc",
        "outputId": "9dec091b-2365-4cbc-d8cc-4f351152a131"
      },
      "source": [
        "\n",
        "plt.figure(figsize=(10,10))\n",
        "plt.plot(history.history[\"loss\"], label='Loss')\n",
        "plt.plot(history.history[\"val_loss\"], label='Validation Loss')\n",
        "plt.legend([\"loss\", \"validation loss\"])\n",
        "plt.show()"
      ],
      "execution_count": null,
      "outputs": [
        {
          "output_type": "display_data",
          "data": {
            "image/png": "[encoded data removed]",
            "text/plain": [
              "<Figure size 720x720 with 1 Axes>"
            ]
          },
          "metadata": {
            "needs_background": "light"
          }
        }
      ]
    },
    {
      "cell_type": "markdown",
      "metadata": {
        "id": "ZB3NUE3n_S1z"
      },
      "source": [
        "## Confusion matrix"
      ]
    },
    {
      "cell_type": "code",
      "metadata": {
        "id": "tzW2K_axox8n"
      },
      "source": [
        "import seaborn as sn\n",
        "from sklearn.metrics import confusion_matrix"
      ],
      "execution_count": null,
      "outputs": []
    },
    {
      "cell_type": "code",
      "metadata": {
        "colab": {
          "base_uri": "https://localhost:8080/",
          "height": 623
        },
        "id": "g0G8HwzKo09W",
        "outputId": "b01d6e07-562d-46ea-8b63-399498c03dff"
      },
      "source": [
        "y_preds = model.predict(x_test)\n",
        "y_pred_classes = np.argmax(y_preds, axis=1)\n",
        "y_true = np.argmax(y_test, axis=1)\n",
        "cm = confusion_matrix(y_true, y_pred_classes)\n",
        "plt.figure(figsize=(10,10))\n",
        "sn.heatmap(cm, annot=True, fmt='d')\n",
        "plt.xlabel('Predicted')\n",
        "plt.ylabel('True')"
      ],
      "execution_count": null,
      "outputs": [
        {
          "output_type": "execute_result",
          "data": {
            "text/plain": [
              "Text(69.0, 0.5, 'True')"
            ]
          },
          "metadata": {},
          "execution_count": 26
        },
        {
          "output_type": "display_data",
          "data": {
            "image/png": "[encoded data removed]",
            "text/plain": [
              "<Figure size 720x720 with 2 Axes>"
            ]
          },
          "metadata": {
            "needs_background": "light"
          }
        }
      ]
    },
    {
      "cell_type": "markdown",
      "metadata": {
        "id": "6-NvZStS_bJ8"
      },
      "source": [
        "## Handwritten digit recognition with CV2"
      ]
    },
    {
      "cell_type": "code",
      "metadata": {
        "id": "TYxItvpoo7jk"
      },
      "source": [
        "import imutils\n",
        "import cv2 as cv\n",
        "from imutils.contours import sort_contours\n",
        "from keras.models import load_model"
      ],
      "execution_count": null,
      "outputs": []
    },
    {
      "cell_type": "code",
      "metadata": {
        "id": "v6gZ99GBo8Rx"
      },
      "source": [
        "import pandas as pd\n",
        "import numpy as np\n",
        "import matplotlib.pyplot as plt\n",
        "%matplotlib inline"
      ],
      "execution_count": null,
      "outputs": []
    },
    {
      "cell_type": "code",
      "metadata": {
        "id": "SB72sC8OpEem"
      },
      "source": [
        "image = cv.imread(\"/content/drive/My Drive/colab_files/digitsrec.jpg\")\n",
        "gray = cv.cvtColor(image, cv.COLOR_BGR2GRAY)\n",
        "blurred = cv.GaussianBlur(gray,(5,5),0)"
      ],
      "execution_count": null,
      "outputs": []
    },
    {
      "cell_type": "code",
      "metadata": {
        "colab": {
          "base_uri": "https://localhost:8080/",
          "height": 225
        },
        "id": "hrDRBReXpG58",
        "outputId": "31b75d34-600a-4376-b712-a95e14b6538f"
      },
      "source": [
        "plt.imshow(blurred)"
      ],
      "execution_count": null,
      "outputs": [
        {
          "output_type": "execute_result",
          "data": {
            "text/plain": [
              "<matplotlib.image.AxesImage at 0x7f7bcf6374d0>"
            ]
          },
          "metadata": {},
          "execution_count": 31
        },
        {
          "output_type": "display_data",
          "data": {
            "image/png": "[encoded data removed]",
            "text/plain": [
              "<Figure size 432x288 with 1 Axes>"
            ]
          },
          "metadata": {
            "needs_background": "light"
          }
        }
      ]
    },
    {
      "cell_type": "code",
      "metadata": {
        "id": "ixq9SWK-pGyY"
      },
      "source": [
        "edged = cv.Canny(blurred, 30, 150)\n",
        "\n",
        "cnts = cv.findContours(edged.copy(), cv.RETR_EXTERNAL, cv.CHAIN_APPROX_SIMPLE)\n",
        "cnts = imutils.grab_contours(cnts)\n",
        "cnts = sort_contours(cnts, method='left-to-right')[0]\n",
        "\n",
        "chars = []"
      ],
      "execution_count": null,
      "outputs": []
    },
    {
      "cell_type": "code",
      "metadata": {
        "colab": {
          "base_uri": "https://localhost:8080/",
          "height": 225
        },
        "id": "RgVMSBnNpGnC",
        "outputId": "e6084e03-035b-4529-edc5-186de708c2ff"
      },
      "source": [
        "plt.imshow(edged)"
      ],
      "execution_count": null,
      "outputs": [
        {
          "output_type": "execute_result",
          "data": {
            "text/plain": [
              "<matplotlib.image.AxesImage at 0x7f7bcf5a5450>"
            ]
          },
          "metadata": {},
          "execution_count": 33
        },
        {
          "output_type": "display_data",
          "data": {
            "image/png": "[encoded data removed]",
            "text/plain": [
              "<Figure size 432x288 with 1 Axes>"
            ]
          },
          "metadata": {
            "needs_background": "light"
          }
        }
      ]
    },
    {
      "cell_type": "code",
      "metadata": {
        "id": "1Otuf9BAo8PZ"
      },
      "source": [
        "for c in cnts:\n",
        "    (x, y, w, h) = cv.boundingRect(c)\n",
        "    \n",
        "    if(w>=5 and w<=50) and (h>=15 and h<= 50):\n",
        "        roi = gray[y:y+h, x:x+w]\n",
        "        thresh = cv.threshold(roi, 0, 255, cv.THRESH_BINARY_INV | cv.THRESH_OTSU)[1]\n",
        "        (th, tw) = thresh.shape\n",
        "        \n",
        "        if tw > th:\n",
        "            thresh = imutils.resize(thresh, width=28)\n",
        "        else:\n",
        "            thresh = imutils.resize(thresh,height=28)\n",
        "        (th, tw) = thresh.shape\n",
        "        dx = int(max(0, 28 - tw) / 2.0)\n",
        "        dy = int(max(0, 28 - th) / 2.0)\n",
        "        \n",
        "        padded = cv.copyMakeBorder(thresh, top=dy, bottom=dy, left=dx, right=dx, borderType=cv.BORDER_CONSTANT, value=(0, 0, 0))\n",
        "        padded = cv.resize(padded, (28, 28))\n",
        "        \n",
        "        padded =padded.astype(\"float32\") / 255.0\n",
        "        padded = np.expand_dims(padded, axis=-1)\n",
        "        \n",
        "        chars.append((padded, (x, y, w, h)))"
      ],
      "execution_count": null,
      "outputs": []
    },
    {
      "cell_type": "code",
      "metadata": {
        "id": "r1rBdYEypM-h"
      },
      "source": [
        "boxes = [b[1] for b in chars]\n",
        "chars = np.array([c[0] for c in chars], dtype=\"float32\")\n",
        "preds = model.predict(chars)\n",
        "labelNames = \"0123456789\"\n",
        "labelNames = [l for l in labelNames]"
      ],
      "execution_count": null,
      "outputs": []
    },
    {
      "cell_type": "code",
      "metadata": {
        "colab": {
          "base_uri": "https://localhost:8080/",
          "height": 361
        },
        "id": "dM2JUMRapPos",
        "outputId": "e19d1500-8214-4fb4-cf9c-07eac990018b"
      },
      "source": [
        "for (pred, (x, y, w, h)) in zip(preds, boxes):\n",
        "    i = np.argmax(pred)\n",
        "    prob = pred[i]\n",
        "    label = labelNames[i]\n",
        "    \n",
        "    print(\"{} - {:.2f}%\".format(label, prob * 100))\n",
        "    cv.rectangle(image, (x, y), (x+w, y+h), (0, 255, 0), 2)\n",
        "    cv.putText(image, label, (x-30, y+20), cv.FONT_HERSHEY_SIMPLEX, 1, (0, 255, 0), 2)\n",
        "    \n",
        "    plt.imshow(image)"
      ],
      "execution_count": null,
      "outputs": [
        {
          "output_type": "stream",
          "name": "stdout",
          "text": [
            "4 - 100.00%\n",
            "8 - 100.00%\n",
            "0 - 100.00%\n",
            "0 - 99.92%\n",
            "5 - 72.45%\n",
            "0 - 99.94%\n",
            "5 - 100.00%\n",
            "2 - 100.00%\n",
            "9 - 76.38%\n"
          ]
        },
        {
          "output_type": "display_data",
          "data": {
            "image/png": "[encoded data removed]",
            "text/plain": [
              "<Figure size 432x288 with 1 Axes>"
            ]
          },
          "metadata": {
            "needs_background": "light"
          }
        }
      ]
    },
    {
      "cell_type": "code",
      "metadata": {
        "id": "_h6IwANppPdF"
      },
      "source": [
        "model.save(\"/content/drive/My Drive/colab_files/model07.h5\")"
      ],
      "execution_count": null,
      "outputs": []
    }
  ]
}